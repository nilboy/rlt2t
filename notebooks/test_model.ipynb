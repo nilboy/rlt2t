{
 "cells": [
  {
   "cell_type": "code",
   "execution_count": 1,
   "id": "6c7f978f-748c-4629-b05d-09954ca56be8",
   "metadata": {},
   "outputs": [],
   "source": [
    "import json"
   ]
  },
  {
   "cell_type": "code",
   "execution_count": 2,
   "id": "2e21f0fa-64fb-4b76-a7fc-c3f8aab2951a",
   "metadata": {},
   "outputs": [],
   "source": [
    "data = json.load(open('/root/project/rlt2t/data/rank/train.json'))"
   ]
  },
  {
   "cell_type": "code",
   "execution_count": 14,
   "id": "86403932-8e2c-4381-8a77-cd3fe9165dc9",
   "metadata": {},
   "outputs": [
    {
     "name": "stdout",
     "output_type": "stream",
     "text": [
      "3.4303518317025063\n"
     ]
    }
   ],
   "source": [
    "scores = []\n",
    "for k, items in data.items():\n",
    "    scores.append(max([o['metric_score'] for o in items]))\n",
    "print(np.mean(scores))"
   ]
  },
  {
   "cell_type": "code",
   "execution_count": 17,
   "id": "acb876a1-77b5-4980-af95-8a185ab6c071",
   "metadata": {},
   "outputs": [],
   "source": [
    "model_names = [\n",
    "     'uer-large-199-0.2-rank',\n",
    "     'uer-large-199-0.2',\n",
    "     'uer-large-199-0.1-rank',\n",
    "     'uer-large-199-0.1',\n",
    "     'uer-pegasus-large-rank',\n",
    "     'idea-pegasus-large-rank',\n",
    "     'idea-pegasus-base-rank',\n",
    "     'uer-pegasus-large',\n",
    "     'idea-pegasus-large',\n",
    "     'idea-bart-base-rank',\n",
    "     'idea-pegasus-base',\n",
    "     'uer-pegasus-base-rank',\n",
    "     'idea-bart-base',\n",
    "     'uer-pegasus-base',\n",
    "     'uer-base-139-0.1-142-rank',\n",
    "     'fnlp-base-249-242-503650-rank',\n",
    "     'idea-bart-xl-0.2-rank',\n",
    "     'idea-bart-xl-0.3',\n",
    "     'idea-bart-xl-0.2',\n",
    "     'uer-base-139-0.1-188',\n",
    "     'fnlp-base-249-242-503657',\n",
    "     'fnlp-base-249-242-503650',\n",
    "     'uer-base-139-0.1-142',\n",
    "]"
   ]
  },
  {
   "cell_type": "code",
   "execution_count": 22,
   "id": "c4bee0a5-3e56-469b-9d67-d6419cb8c3f4",
   "metadata": {},
   "outputs": [],
   "source": [
    "model_scores = []"
   ]
  },
  {
   "cell_type": "code",
   "execution_count": 23,
   "id": "c91f93d8-4773-45fd-aa48-5a1a139bea61",
   "metadata": {},
   "outputs": [],
   "source": [
    "for model_id in range(len(model_names)):\n",
    "    scores = []\n",
    "    for k, items in data.items():\n",
    "        max_result_id = np.argmax([item['score'][model_id] for item in items])\n",
    "        scores.append(items[max_result_id]['metric_score'])\n",
    "    model_scores.append((model_names[model_id], np.mean(scores)))"
   ]
  },
  {
   "cell_type": "code",
   "execution_count": 26,
   "id": "715d6ac8-884a-472c-aced-692a1000d468",
   "metadata": {},
   "outputs": [],
   "source": [
    "model_scores = sorted(model_scores, key=lambda x: -x[1])"
   ]
  },
  {
   "cell_type": "code",
   "execution_count": 27,
   "id": "14ec827b-4d0b-4388-9232-a978d6f1d2b8",
   "metadata": {},
   "outputs": [
    {
     "data": {
      "text/plain": [
       "[('idea-bart-xl-0.2', 2.3025702775515646),\n",
       " ('uer-large-199-0.2', 2.2999512878774993),\n",
       " ('uer-large-199-0.1-rank', 2.2976816108317246),\n",
       " ('idea-bart-base-rank', 2.293036226736877),\n",
       " ('uer-large-199-0.1', 2.2900318543374025),\n",
       " ('uer-large-199-0.2-rank', 2.2827199855110103),\n",
       " ('uer-base-139-0.1-142-rank', 2.2752964815029872),\n",
       " ('idea-bart-xl-0.2-rank', 2.2746354511340123),\n",
       " ('idea-bart-xl-0.3', 2.2738402969616245),\n",
       " ('uer-base-139-0.1-142', 2.2607514558710844),\n",
       " ('fnlp-base-249-242-503650-rank', 2.255529525405068),\n",
       " ('fnlp-base-249-242-503650', 2.249424694589003),\n",
       " ('uer-pegasus-base-rank', 2.2439364021172175),\n",
       " ('uer-base-139-0.1-188', 2.2436607818473244),\n",
       " ('idea-bart-base', 2.2394929272659807),\n",
       " ('fnlp-base-249-242-503657', 2.2326133458936543),\n",
       " ('idea-pegasus-base', 2.225778842002235),\n",
       " ('uer-pegasus-large-rank', 2.2240354070001462),\n",
       " ('uer-pegasus-large', 2.222883077118824),\n",
       " ('idea-pegasus-large-rank', 2.2109288841917043),\n",
       " ('uer-pegasus-base', 2.2048813145317134),\n",
       " ('idea-pegasus-base-rank', 2.2038015093030943),\n",
       " ('idea-pegasus-large', 2.1947251316403142)]"
      ]
     },
     "execution_count": 27,
     "metadata": {},
     "output_type": "execute_result"
    }
   ],
   "source": [
    "model_scores"
   ]
  },
  {
   "cell_type": "code",
   "execution_count": 28,
   "id": "337609a7-0ce6-4c34-b5b2-14102a566b87",
   "metadata": {},
   "outputs": [
    {
     "data": {
      "text/plain": [
       "['idea-bart-xl-0.2',\n",
       " 'uer-large-199-0.2',\n",
       " 'uer-large-199-0.1-rank',\n",
       " 'idea-bart-base-rank',\n",
       " 'uer-large-199-0.1',\n",
       " 'uer-large-199-0.2-rank',\n",
       " 'uer-base-139-0.1-142-rank',\n",
       " 'idea-bart-xl-0.2-rank',\n",
       " 'idea-bart-xl-0.3',\n",
       " 'uer-base-139-0.1-142',\n",
       " 'fnlp-base-249-242-503650-rank',\n",
       " 'fnlp-base-249-242-503650',\n",
       " 'uer-pegasus-base-rank',\n",
       " 'uer-base-139-0.1-188',\n",
       " 'idea-bart-base',\n",
       " 'fnlp-base-249-242-503657',\n",
       " 'idea-pegasus-base',\n",
       " 'uer-pegasus-large-rank',\n",
       " 'uer-pegasus-large',\n",
       " 'idea-pegasus-large-rank',\n",
       " 'uer-pegasus-base',\n",
       " 'idea-pegasus-base-rank',\n",
       " 'idea-pegasus-large']"
      ]
     },
     "execution_count": 28,
     "metadata": {},
     "output_type": "execute_result"
    }
   ],
   "source": [
    "[item[0] for item in model_scores]"
   ]
  },
  {
   "cell_type": "markdown",
   "id": "519dd3cf-305b-410a-8503-e5da39a79982",
   "metadata": {},
   "source": [
    "# 第一阶段"
   ]
  },
  {
   "cell_type": "code",
   "execution_count": 81,
   "id": "2b13b953-554d-4541-8009-814ab5ec1c11",
   "metadata": {},
   "outputs": [],
   "source": [
    "import numpy as np"
   ]
  },
  {
   "cell_type": "code",
   "execution_count": 71,
   "id": "14bbfece-b58b-495d-9184-c9becda778fe",
   "metadata": {},
   "outputs": [
    {
     "data": {
      "application/vnd.jupyter.widget-view+json": {
       "model_id": "f3b0962e08da4df38e7d86c9e374a979",
       "version_major": 2,
       "version_minor": 0
      },
      "text/plain": [
       "0it [00:00, ?it/s]"
      ]
     },
     "metadata": {},
     "output_type": "display_data"
    }
   ],
   "source": [
    "records = []\n",
    "from tqdm.auto import tqdm\n",
    "for line in tqdm(open('/root/project/rlt2t/model_flags_scores.jsonl')):\n",
    "    record = json.loads(line)\n",
    "    records.append(record)\n",
    "    #c_scores[record['model_flags']] = record['score']"
   ]
  },
  {
   "cell_type": "code",
   "execution_count": 72,
   "id": "5bc07611-7671-4d13-a3dd-0da77503018e",
   "metadata": {},
   "outputs": [],
   "source": [
    "records.sort(key=lambda x: -x['score'])"
   ]
  },
  {
   "cell_type": "code",
   "execution_count": 161,
   "id": "5209e539-5383-4017-a1a0-5da356470160",
   "metadata": {},
   "outputs": [],
   "source": [
    "sub_records = records[1:40]"
   ]
  },
  {
   "cell_type": "code",
   "execution_count": 162,
   "id": "75780665-edc3-42de-a93f-2b204f07198d",
   "metadata": {},
   "outputs": [],
   "source": [
    "model_num = [0] * len(model_names)"
   ]
  },
  {
   "cell_type": "code",
   "execution_count": 163,
   "id": "c5c63a0b-f7dc-48e0-81dc-8f4a5f4643c8",
   "metadata": {},
   "outputs": [],
   "source": [
    "models_num_np = np.zeros([len(sub_records), len(model_names)])"
   ]
  },
  {
   "cell_type": "code",
   "execution_count": 164,
   "id": "341f748b-669a-400b-85ae-b49be80f9a35",
   "metadata": {},
   "outputs": [
    {
     "data": {
      "application/vnd.jupyter.widget-view+json": {
       "model_id": "79b0129b9c8c412e814f026a4eb8bdd5",
       "version_major": 2,
       "version_minor": 0
      },
      "text/plain": [
       "0it [00:00, ?it/s]"
      ]
     },
     "metadata": {},
     "output_type": "display_data"
    }
   ],
   "source": [
    "for idx, record in tqdm(enumerate(sub_records)):\n",
    "    models_num_np[idx] = record['model_flags']"
   ]
  },
  {
   "cell_type": "code",
   "execution_count": 165,
   "id": "b5456d88-809e-441d-843a-b2074a6d73b0",
   "metadata": {},
   "outputs": [],
   "source": [
    "models_num_sum = np.sum(models_num_np, axis=0)"
   ]
  },
  {
   "cell_type": "code",
   "execution_count": 166,
   "id": "4a7970ca-ed37-4a1b-aaed-14bb53427b18",
   "metadata": {},
   "outputs": [],
   "source": [
    "model_acc_records = []\n",
    "for model_id in range(len(model_names)):\n",
    "    model_acc_records.append((model_names[model_id], models_num_sum[model_id]))"
   ]
  },
  {
   "cell_type": "code",
   "execution_count": 167,
   "id": "f66082e5-626b-4a91-b14c-4e574635a606",
   "metadata": {},
   "outputs": [],
   "source": [
    "model_acc_records.sort(key=lambda x: -x[1])"
   ]
  },
  {
   "cell_type": "code",
   "execution_count": 168,
   "id": "1e7133d4-a34a-4ed5-bf54-9bd5b50e5a53",
   "metadata": {},
   "outputs": [],
   "source": [
    "models_list = [\n",
    "    [model_names[idx] for idx, model_flag in enumerate(record['model_flags']) if model_flag]\n",
    "    for record in sub_records\n",
    "]"
   ]
  },
  {
   "cell_type": "code",
   "execution_count": 189,
   "id": "8155c247-fe99-47b4-9e80-ad94a3380503",
   "metadata": {},
   "outputs": [
    {
     "data": {
      "text/plain": [
       "['uer-pegasus-large-rank',\n",
       " 'idea-pegasus-large',\n",
       " 'idea-bart-base-rank',\n",
       " 'idea-bart-base',\n",
       " 'uer-pegasus-base',\n",
       " 'idea-bart-xl-0.2',\n",
       " 'uer-base-139-0.1-188',\n",
       " 'fnlp-base-249-242-503657',\n",
       " 'uer-base-139-0.1-142']"
      ]
     },
     "execution_count": 189,
     "metadata": {},
     "output_type": "execute_result"
    }
   ],
   "source": [
    "models_list[0]"
   ]
  },
  {
   "cell_type": "code",
   "execution_count": null,
   "id": "bf07c2c9-a627-459b-a411-edc3034baa67",
   "metadata": {},
   "outputs": [],
   "source": []
  }
 ],
 "metadata": {
  "kernelspec": {
   "display_name": "Python 3 (ipykernel)",
   "language": "python",
   "name": "python3"
  },
  "language_info": {
   "codemirror_mode": {
    "name": "ipython",
    "version": 3
   },
   "file_extension": ".py",
   "mimetype": "text/x-python",
   "name": "python",
   "nbconvert_exporter": "python",
   "pygments_lexer": "ipython3",
   "version": "3.8.10"
  }
 },
 "nbformat": 4,
 "nbformat_minor": 5
}
