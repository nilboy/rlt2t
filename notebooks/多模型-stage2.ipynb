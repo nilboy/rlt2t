{
 "cells": [
  {
   "cell_type": "code",
   "execution_count": 1,
   "id": "a674db99-fe0d-4835-ba91-d6a6f376afbd",
   "metadata": {},
   "outputs": [],
   "source": [
    "import sys\n",
    "import os\n",
    "os.environ['CUDA_VISIBLE_DEVICES'] = \"3\"\n",
    "sys.path.insert(0, \"/root/project/rlt2t\")"
   ]
  },
  {
   "cell_type": "code",
   "execution_count": 2,
   "id": "e0e404f2-80eb-4478-8278-f9d88287ab5a",
   "metadata": {},
   "outputs": [],
   "source": [
    "import pandas as pd\n",
    "from rlt2t.engines.t2t_engine import T2TEngineCT2, T2TEngineHF\n",
    "from rlt2t.predictor.predictor import Predictor"
   ]
  },
  {
   "cell_type": "code",
   "execution_count": 3,
   "id": "1b2fd1ab-97cc-4378-b381-f8f684d6d1d7",
   "metadata": {},
   "outputs": [],
   "source": [
    "input_file = \"/root/project/rlt2t/data/t2t/train_2_train/test.json\""
   ]
  },
  {
   "cell_type": "code",
   "execution_count": 4,
   "id": "f6707688-89a1-4faf-9b9a-735cd2d4b1e4",
   "metadata": {},
   "outputs": [],
   "source": [
    "df = pd.read_json(input_file, lines=True)\n",
    "records = df.to_dict('records')"
   ]
  },
  {
   "cell_type": "code",
   "execution_count": 5,
   "id": "bce42bf9-ca62-4a1b-86a9-2695fc7c8fbc",
   "metadata": {},
   "outputs": [],
   "source": [
    "texts = [item['text'] for item in records]\n",
    "summarys = [item['summary'] for item in records]"
   ]
  },
  {
   "cell_type": "code",
   "execution_count": 27,
   "id": "bf092414-7b68-4fbb-ad86-653526041db2",
   "metadata": {},
   "outputs": [],
   "source": [
    "t2t_model_paths = [\n",
    "    # \"/root/autodl-tmp/sub-models/uer-large-199-0.1\",\n",
    "    \"/root/autodl-tmp/sub-models/uer-large-199-0.2\",\n",
    "    \"/root/autodl-tmp/sub-models/idea-bart-xl-0.2\",\n",
    "    # \"/root/autodl-tmp/output-models/idea/bart-xl-0.2-rank/ct2\",\n",
    "    #\"/root/autodl-tmp/sub-models/idea-bart-xl-0.3\", \n",
    "    \"/root/autodl-tmp/sub-models/uer-base-139-0.1-142\",\n",
    "    #\"/root/autodl-tmp/sub-models/uer-large-199-0.1-rank\",\n",
    "    #\"/root/autodl-tmp/sub-models/uer-large-199-0.2-rank\",\n",
    "    #\"/root/autodl-tmp/sub-models/uer-base-139-0.1-188\",\n",
    "    \"/root/autodl-tmp/sub-models/fnlp-base-249-242-503650\",\n",
    "    #\"/root/autodl-tmp/sub-models/fnlp-base-249-242-503657\",\n",
    "    #\"/root/autodl-tmp/sub-models/idea-bart-xl-0.2-rank\",\n",
    "]\n",
    "\n",
    "t2t_score_model_paths = [\n",
    "    #\"/root/autodl-tmp/sub-models/uer-large-199-0.1\",\n",
    "    #\"/root/autodl-tmp/sub-models/uer-large-199-0.2\",\n",
    "    #\"/root/autodl-tmp/sub-models/idea-bart-xl-0.2\",\n",
    "    # \"/root/autodl-tmp/output-models/idea/bart-xl-0.2-rank/ct2\",\n",
    "    #\"/root/autodl-tmp/sub-models/idea-bart-xl-0.3\", \n",
    "    #\"/root/autodl-tmp/sub-models/uer-base-139-0.1-142\",\n",
    "    \"/root/autodl-tmp/sub-models/uer-large-199-0.1-rank\",\n",
    "    \"/root/autodl-tmp/sub-models/uer-large-199-0.2-rank\",\n",
    "    #\"/root/autodl-tmp/sub-models/uer-base-139-0.1-188\",\n",
    "    #\"/root/autodl-tmp/sub-models/fnlp-base-249-242-503650\",\n",
    "    #\"/root/autodl-tmp/sub-models/fnlp-base-249-242-503657\",\n",
    "    #\"/root/autodl-tmp/output-models/idea/bart-xl-0.2-rank/ct2\",\n",
    "    \"/root/autodl-tmp/sub-models/idea-bart-xl-0.2-rank\",\n",
    "    \n",
    "]"
   ]
  },
  {
   "cell_type": "code",
   "execution_count": 28,
   "id": "b2fe8746-71a5-4926-b375-b4f13bed3675",
   "metadata": {},
   "outputs": [],
   "source": [
    "# t2t_model_paths = [\n",
    "#     \"/root/autodl-tmp/sub-models/uer-large-199-0.1\",\n",
    "#     \"/root/autodl-tmp/sub-models/uer-large-199-0.2\",\n",
    "#     #\"/root/autodl-tmp/sub-models/idea-bart-xl-0.2\",\n",
    "#     #\"/root/autodl-tmp/sub-models/idea-bart-xl-0.3\", \n",
    "#     \"/root/autodl-tmp/sub-models/uer-base-139-0.1-142\",\n",
    "#     \"/root/autodl-tmp/sub-models/uer-large-199-0.1-rank\",\n",
    "#     \"/root/autodl-tmp/sub-models/uer-large-199-0.2-rank\",\n",
    "#     \"/root/autodl-tmp/sub-models/uer-base-139-0.1-188\",\n",
    "#     \"/root/autodl-tmp/sub-models/fnlp-base-249-242-503650\",\n",
    "#     \"/root/autodl-tmp/sub-models/fnlp-base-249-242-503657\",\n",
    "# ]\n",
    "\n",
    "# t2t_score_model_paths = [\n",
    "#     \"/root/autodl-tmp/sub-models/uer-large-199-0.1\",\n",
    "#     \"/root/autodl-tmp/sub-models/uer-large-199-0.2\",\n",
    "#     #\"/root/autodl-tmp/sub-models/idea-bart-xl-0.2\",\n",
    "#     #\"/root/autodl-tmp/sub-models/idea-bart-xl-0.3\", \n",
    "#     \"/root/autodl-tmp/sub-models/uer-base-139-0.1-142\",\n",
    "#     \"/root/autodl-tmp/sub-models/uer-large-199-0.1-rank\",\n",
    "#     \"/root/autodl-tmp/sub-models/uer-large-199-0.2-rank\",\n",
    "#     \"/root/autodl-tmp/sub-models/uer-base-139-0.1-188\",\n",
    "#     \"/root/autodl-tmp/sub-models/fnlp-base-249-242-503650\",\n",
    "#     \"/root/autodl-tmp/sub-models/fnlp-base-249-242-503657\",\n",
    "# ]"
   ]
  },
  {
   "cell_type": "code",
   "execution_count": 29,
   "id": "89eb19ab-0ee9-4616-9e7b-62cd3f27b89d",
   "metadata": {},
   "outputs": [],
   "source": [
    "predictor = Predictor(t2t_model_paths,\n",
    "                      [],\n",
    "                      t2t_score_model_paths,\n",
    "                      beam_size=4,\n",
    "                      num_hypotheses=4)"
   ]
  },
  {
   "cell_type": "code",
   "execution_count": 30,
   "id": "2e3d2913-0f9b-4570-9c3b-f78027d54bf6",
   "metadata": {},
   "outputs": [
    {
     "data": {
      "application/vnd.jupyter.widget-view+json": {
       "model_id": "0e55aadc60ee469da69fe6183ee8881f",
       "version_major": 2,
       "version_minor": 0
      },
      "text/plain": [
       "beam_search_predict...:   0%|          | 0/4 [00:00<?, ?it/s]"
      ]
     },
     "metadata": {},
     "output_type": "display_data"
    },
    {
     "data": {
      "application/vnd.jupyter.widget-view+json": {
       "model_id": "ce658102f32f4dc9b46c9e397fdf2aac",
       "version_major": 2,
       "version_minor": 0
      },
      "text/plain": [
       "predict...:   0%|          | 0/32 [00:00<?, ?it/s]"
      ]
     },
     "metadata": {},
     "output_type": "display_data"
    },
    {
     "data": {
      "application/vnd.jupyter.widget-view+json": {
       "model_id": "8ea90ea280254fb49451d8ca37989df2",
       "version_major": 2,
       "version_minor": 0
      },
      "text/plain": [
       "predict...:   0%|          | 0/32 [00:00<?, ?it/s]"
      ]
     },
     "metadata": {},
     "output_type": "display_data"
    },
    {
     "data": {
      "application/vnd.jupyter.widget-view+json": {
       "model_id": "67a3313ee00e46c5bb6d4dd0f80553b4",
       "version_major": 2,
       "version_minor": 0
      },
      "text/plain": [
       "predict...:   0%|          | 0/32 [00:00<?, ?it/s]"
      ]
     },
     "metadata": {},
     "output_type": "display_data"
    },
    {
     "data": {
      "application/vnd.jupyter.widget-view+json": {
       "model_id": "9e3f17395b144c158d4f8da46cf5e8a5",
       "version_major": 2,
       "version_minor": 0
      },
      "text/plain": [
       "predict...:   0%|          | 0/32 [00:00<?, ?it/s]"
      ]
     },
     "metadata": {},
     "output_type": "display_data"
    },
    {
     "data": {
      "application/vnd.jupyter.widget-view+json": {
       "model_id": "0f3c75797bf048daa46ce79aeb672e95",
       "version_major": 2,
       "version_minor": 0
      },
      "text/plain": [
       "calculate score...: 0it [00:00, ?it/s]"
      ]
     },
     "metadata": {},
     "output_type": "display_data"
    }
   ],
   "source": [
    "output_texts = [item['output'] for item in predictor.predict_v2(texts)]"
   ]
  },
  {
   "cell_type": "code",
   "execution_count": 31,
   "id": "cd8ebdc1-267f-4415-ab65-df7da4aaf162",
   "metadata": {},
   "outputs": [],
   "source": [
    "from rlt2t.utils.evaluate import calculate_scores\n",
    "from torchmetrics import BLEUScore"
   ]
  },
  {
   "cell_type": "code",
   "execution_count": 32,
   "id": "0868fcea-9d30-4b15-a304-1210ea5eeb55",
   "metadata": {},
   "outputs": [],
   "source": [
    "def calculate_merge_score(labels, preds):\n",
    "    cider = calculate_scores(labels, preds, bleu4_rate=0.0).mean()\n",
    "    bleu_scorer = BLEUScore(4)\n",
    "    bleu_score = bleu_scorer(preds,\n",
    "                             [[item] for item in labels]).item()\n",
    "    print(cider,bleu_score)\n",
    "    return cider * 2/3 + bleu_score * 1/3"
   ]
  },
  {
   "cell_type": "code",
   "execution_count": 33,
   "id": "2dcf0b86-59e3-4264-beb5-119ba033c84e",
   "metadata": {},
   "outputs": [
    {
     "name": "stdout",
     "output_type": "stream",
     "text": [
      "3.3989094389687735 0.43848171830177307\n"
     ]
    },
    {
     "data": {
      "text/plain": [
       "2.41210019874644"
      ]
     },
     "execution_count": 33,
     "metadata": {},
     "output_type": "execute_result"
    }
   ],
   "source": [
    "calculate_merge_score(summarys, output_texts)"
   ]
  },
  {
   "cell_type": "code",
   "execution_count": null,
   "id": "bb1c1df8-fc94-455e-ac77-e0db7ddf6400",
   "metadata": {},
   "outputs": [],
   "source": []
  },
  {
   "cell_type": "code",
   "execution_count": null,
   "id": "bdfb3857-c5ce-4d12-9c92-b8daaa5bd648",
   "metadata": {},
   "outputs": [],
   "source": []
  },
  {
   "cell_type": "code",
   "execution_count": null,
   "id": "2b5fa5eb-6dcd-4d0c-88bc-6d808478d7ec",
   "metadata": {},
   "outputs": [],
   "source": []
  }
 ],
 "metadata": {
  "kernelspec": {
   "display_name": "Python 3 (ipykernel)",
   "language": "python",
   "name": "python3"
  },
  "language_info": {
   "codemirror_mode": {
    "name": "ipython",
    "version": 3
   },
   "file_extension": ".py",
   "mimetype": "text/x-python",
   "name": "python",
   "nbconvert_exporter": "python",
   "pygments_lexer": "ipython3",
   "version": "3.8.10"
  }
 },
 "nbformat": 4,
 "nbformat_minor": 5
}
