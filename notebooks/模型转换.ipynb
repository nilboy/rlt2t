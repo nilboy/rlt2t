{
 "cells": [
  {
   "cell_type": "code",
   "execution_count": 1,
   "id": "413f86a7-3b50-4b30-9041-79566541aa08",
   "metadata": {},
   "outputs": [],
   "source": [
    "import torch\n",
    "\n",
    "base_dir = \"/root/autodl-tmp/output-models/idea/bart-xl-0.2-rank\"\n",
    "\n",
    "input_model_dir = [\n",
    "    \"epoch_6_13800.ckpt.dir\",\n",
    "    \"epoch_5_11400.ckpt.dir\",\n",
    "    \"epoch_2_5400.ckpt.dir\",\n",
    "    \"last.ckpt.dir\",\n",
    "]\n",
    "\n",
    "output_m = {}\n",
    "\n",
    "import os\n",
    "for base_model_dir in input_model_dir:\n",
    "    m = torch.load(os.path.join(base_dir, base_model_dir, 'pytorch_model.bin'))\n",
    "    for k, v in m.items():\n",
    "        if k not in output_m:\n",
    "            output_m[k] = v/len(input_model_dir)\n",
    "        else:\n",
    "            output_m[k] += v/len(input_model_dir)\n",
    "\n",
    "torch.save(output_m,\n",
    "           os.path.join(base_dir, 'avg', 'pytorch_model.bin'))"
   ]
  },
  {
   "cell_type": "code",
   "execution_count": null,
   "id": "afdf4794-f396-4719-b4bd-4a4d14a71b7d",
   "metadata": {},
   "outputs": [],
   "source": []
  },
  {
   "cell_type": "code",
   "execution_count": null,
   "id": "d34f7b03-d19c-4669-aabb-70223e4fe36d",
   "metadata": {},
   "outputs": [],
   "source": []
  }
 ],
 "metadata": {
  "kernelspec": {
   "display_name": "Python 3 (ipykernel)",
   "language": "python",
   "name": "python3"
  },
  "language_info": {
   "codemirror_mode": {
    "name": "ipython",
    "version": 3
   },
   "file_extension": ".py",
   "mimetype": "text/x-python",
   "name": "python",
   "nbconvert_exporter": "python",
   "pygments_lexer": "ipython3",
   "version": "3.8.10"
  }
 },
 "nbformat": 4,
 "nbformat_minor": 5
}
